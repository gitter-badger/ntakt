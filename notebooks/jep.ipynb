{
 "cells": [
  {
   "cell_type": "code",
   "execution_count": 1,
   "id": "continued-subscriber",
   "metadata": {},
   "outputs": [],
   "source": [
    "// set up dependencies\n",
    "// use local maven repository; not yet deployed to remote maven repositories.\n",
    "@file:Repository(\"*mavenLocal\")\n",
    "@file:Repository(\"https://maven.scijava.org/content/groups/public\")\n",
    "@file:Repository(\"https://jitpack.io\")\n",
    "\n",
    "// uncomment to search in your local maven repo\n",
    "// requires installation into local maven repository (./gradlew build publishToMavenLocal)\n",
    "@file:DependsOn(\"org.ntakt:ntakt:0.1.0-SNAPSHOT\")\n",
    "@file:DependsOn(\"black.ninia:jep:3.9.1\")"
   ]
  },
  {
   "cell_type": "code",
   "execution_count": 2,
   "id": "binding-brazil",
   "metadata": {},
   "outputs": [
    {
     "name": "stdout",
     "output_type": "stream",
     "text": [
      "/home/zottel/miniconda3/envs/ntakt-jep/lib:/usr/java/packages/lib:/usr/lib64:/lib64:/lib:/usr/lib\n"
     ]
    }
   ],
   "source": [
    "import java.nio.ByteBuffer\n",
    "import jep.DirectNDArray\n",
    "import jep.SharedInterpreter\n",
    "import org.ntakt.*\n",
    "println(System.getProperty(\"java.library.path\"))"
   ]
  },
  {
   "cell_type": "code",
   "execution_count": 3,
   "id": "dominican-sacrifice",
   "metadata": {},
   "outputs": [],
   "source": [
    "// This cell should be run only once per\n",
    "object interpreter {\n",
    "    private lateinit var _interpreter: SharedInterpreter\n",
    "    val interpreter: SharedInterpreter get() {\n",
    "        if (!this::_interpreter.isInitialized)\n",
    "            _interpreter = SharedInterpreter()\n",
    "        return _interpreter\n",
    "    }\n",
    "    fun exec(code: String) = interpreter.exec(code)\n",
    "    fun getValue(name: String) = interpreter.getValue(name)\n",
    "    operator fun get(name: String) = getValue(name)\n",
    "    operator fun set(name: String, value: Any) = interpreter.set(name, value)\n",
    "}"
   ]
  },
  {
   "cell_type": "code",
   "execution_count": 4,
   "id": "fancy-dialogue",
   "metadata": {},
   "outputs": [
    {
     "data": {
      "text/plain": [
       "[0.0, 1.0, 2.0, 3.0, 4.0, 5.0, 6.0, 7.0, 8.0, 9.0]"
      ]
     },
     "execution_count": 4,
     "metadata": {},
     "output_type": "execute_result"
    }
   ],
   "source": [
    "val buffer = ByteBuffer.allocateDirect(10*4).asFloatBuffer()\n",
    "val nd = DirectNDArray(buffer)\n",
    "val range = ntakt.floats(buffer.access, 10) { it.toFloat() }\n",
    "range.flatIterable.map { it.realFloat }"
   ]
  },
  {
   "cell_type": "code",
   "execution_count": 5,
   "id": "built-stage",
   "metadata": {},
   "outputs": [
    {
     "name": "stdout",
     "output_type": "stream",
     "text": [
      "9.0\n",
      "255.0\n"
     ]
    }
   ],
   "source": [
    "interpreter.exec(\"import numpy as np\")\n",
    "interpreter.exec(\"print(np)\")\n",
    "interpreter[\"arr\"] = nd\n",
    "println(interpreter[\"arr[-1]\"])\n",
    "interpreter.exec(\"arr[:] = 255\")\n",
    "println(interpreter[\"arr[-1]\"])"
   ]
  },
  {
   "cell_type": "code",
   "execution_count": 6,
   "id": "limiting-ethics",
   "metadata": {},
   "outputs": [
    {
     "data": {
      "text/plain": [
       "[255.0, 255.0, 255.0, 255.0, 255.0, 255.0, 255.0, 255.0, 255.0, 255.0]"
      ]
     },
     "execution_count": 6,
     "metadata": {},
     "output_type": "execute_result"
    }
   ],
   "source": [
    "range.flatIterable.map { it.realFloat }"
   ]
  }
 ],
 "metadata": {
  "kernelspec": {
   "display_name": "Kotlin",
   "language": "kotlin",
   "name": "kotlin"
  },
  "language_info": {
   "codemirror_mode": "text/x-kotlin",
   "file_extension": ".kt",
   "mimetype": "text/x-kotlin",
   "name": "kotlin",
   "nbconvert_exporter": "",
   "pygments_lexer": "kotlin",
   "version": "1.5.20-dev-4184"
  }
 },
 "nbformat": 4,
 "nbformat_minor": 5
}
